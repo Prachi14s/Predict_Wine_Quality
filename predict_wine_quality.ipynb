{
  "nbformat": 4,
  "nbformat_minor": 0,
  "metadata": {
    "kernelspec": {
      "display_name": "Python 3",
      "language": "python",
      "name": "python3"
    },
    "language_info": {
      "codemirror_mode": {
        "name": "ipython",
        "version": 3
      },
      "file_extension": ".py",
      "mimetype": "text/x-python",
      "name": "python",
      "nbconvert_exporter": "python",
      "pygments_lexer": "ipython3",
      "version": "3.6.8"
    },
    "toc": {
      "base_numbering": 1,
      "nav_menu": {},
      "number_sections": true,
      "sideBar": true,
      "skip_h1_title": false,
      "title_cell": "Table of Contents",
      "title_sidebar": "Contents",
      "toc_cell": false,
      "toc_position": {},
      "toc_section_display": true,
      "toc_window_display": false
    },
    "colab": {
      "name": "predict_wine_quality.ipynb",
      "provenance": [],
      "collapsed_sections": []
    }
  },
  "cells": [
    {
      "cell_type": "code",
      "metadata": {
        "id": "1_TegO9b3Ntz",
        "colab_type": "code",
        "colab": {}
      },
      "source": [
        "import pandas as pd\n",
        "import numpy as np\n",
        "import matplotlib.pyplot as plt\n",
        "%matplotlib inline\n",
        "import seaborn as sns"
      ],
      "execution_count": 2,
      "outputs": []
    },
    {
      "cell_type": "code",
      "metadata": {
        "id": "XskD9GNY3NuA",
        "colab_type": "code",
        "colab": {}
      },
      "source": [
        "df=pd.read_csv(\"/content/winequality-red.csv\")"
      ],
      "execution_count": 3,
      "outputs": []
    },
    {
      "cell_type": "code",
      "metadata": {
        "id": "95bESCqE3NuK",
        "colab_type": "code",
        "colab": {
          "base_uri": "https://localhost:8080/",
          "height": 238
        },
        "outputId": "c676067f-ef8b-461f-c46c-a908a43c4cac"
      },
      "source": [
        "df.head()"
      ],
      "execution_count": 4,
      "outputs": [
        {
          "output_type": "execute_result",
          "data": {
            "text/html": [
              "<div>\n",
              "<style scoped>\n",
              "    .dataframe tbody tr th:only-of-type {\n",
              "        vertical-align: middle;\n",
              "    }\n",
              "\n",
              "    .dataframe tbody tr th {\n",
              "        vertical-align: top;\n",
              "    }\n",
              "\n",
              "    .dataframe thead th {\n",
              "        text-align: right;\n",
              "    }\n",
              "</style>\n",
              "<table border=\"1\" class=\"dataframe\">\n",
              "  <thead>\n",
              "    <tr style=\"text-align: right;\">\n",
              "      <th></th>\n",
              "      <th>fixed acidity</th>\n",
              "      <th>volatile acidity</th>\n",
              "      <th>citric acid</th>\n",
              "      <th>residual sugar</th>\n",
              "      <th>chlorides</th>\n",
              "      <th>free sulfur dioxide</th>\n",
              "      <th>total sulfur dioxide</th>\n",
              "      <th>density</th>\n",
              "      <th>pH</th>\n",
              "      <th>sulphates</th>\n",
              "      <th>alcohol</th>\n",
              "      <th>quality</th>\n",
              "    </tr>\n",
              "  </thead>\n",
              "  <tbody>\n",
              "    <tr>\n",
              "      <th>0</th>\n",
              "      <td>7.4</td>\n",
              "      <td>0.70</td>\n",
              "      <td>0.00</td>\n",
              "      <td>1.9</td>\n",
              "      <td>0.076</td>\n",
              "      <td>11.0</td>\n",
              "      <td>34.0</td>\n",
              "      <td>0.9978</td>\n",
              "      <td>3.51</td>\n",
              "      <td>0.56</td>\n",
              "      <td>9.4</td>\n",
              "      <td>5</td>\n",
              "    </tr>\n",
              "    <tr>\n",
              "      <th>1</th>\n",
              "      <td>7.8</td>\n",
              "      <td>0.88</td>\n",
              "      <td>0.00</td>\n",
              "      <td>2.6</td>\n",
              "      <td>0.098</td>\n",
              "      <td>25.0</td>\n",
              "      <td>67.0</td>\n",
              "      <td>0.9968</td>\n",
              "      <td>3.20</td>\n",
              "      <td>0.68</td>\n",
              "      <td>9.8</td>\n",
              "      <td>5</td>\n",
              "    </tr>\n",
              "    <tr>\n",
              "      <th>2</th>\n",
              "      <td>7.8</td>\n",
              "      <td>0.76</td>\n",
              "      <td>0.04</td>\n",
              "      <td>2.3</td>\n",
              "      <td>0.092</td>\n",
              "      <td>15.0</td>\n",
              "      <td>54.0</td>\n",
              "      <td>0.9970</td>\n",
              "      <td>3.26</td>\n",
              "      <td>0.65</td>\n",
              "      <td>9.8</td>\n",
              "      <td>5</td>\n",
              "    </tr>\n",
              "    <tr>\n",
              "      <th>3</th>\n",
              "      <td>11.2</td>\n",
              "      <td>0.28</td>\n",
              "      <td>0.56</td>\n",
              "      <td>1.9</td>\n",
              "      <td>0.075</td>\n",
              "      <td>17.0</td>\n",
              "      <td>60.0</td>\n",
              "      <td>0.9980</td>\n",
              "      <td>3.16</td>\n",
              "      <td>0.58</td>\n",
              "      <td>9.8</td>\n",
              "      <td>6</td>\n",
              "    </tr>\n",
              "    <tr>\n",
              "      <th>4</th>\n",
              "      <td>7.4</td>\n",
              "      <td>0.70</td>\n",
              "      <td>0.00</td>\n",
              "      <td>1.9</td>\n",
              "      <td>0.076</td>\n",
              "      <td>11.0</td>\n",
              "      <td>34.0</td>\n",
              "      <td>0.9978</td>\n",
              "      <td>3.51</td>\n",
              "      <td>0.56</td>\n",
              "      <td>9.4</td>\n",
              "      <td>5</td>\n",
              "    </tr>\n",
              "  </tbody>\n",
              "</table>\n",
              "</div>"
            ],
            "text/plain": [
              "   fixed acidity  volatile acidity  citric acid  ...  sulphates  alcohol  quality\n",
              "0            7.4              0.70         0.00  ...       0.56      9.4        5\n",
              "1            7.8              0.88         0.00  ...       0.68      9.8        5\n",
              "2            7.8              0.76         0.04  ...       0.65      9.8        5\n",
              "3           11.2              0.28         0.56  ...       0.58      9.8        6\n",
              "4            7.4              0.70         0.00  ...       0.56      9.4        5\n",
              "\n",
              "[5 rows x 12 columns]"
            ]
          },
          "metadata": {
            "tags": []
          },
          "execution_count": 4
        }
      ]
    },
    {
      "cell_type": "code",
      "metadata": {
        "id": "SNS6wlkE3NuW",
        "colab_type": "code",
        "colab": {
          "base_uri": "https://localhost:8080/",
          "height": 85
        },
        "outputId": "d245a480-8f18-4328-a776-49c5bc9dc189"
      },
      "source": [
        "df.columns"
      ],
      "execution_count": 5,
      "outputs": [
        {
          "output_type": "execute_result",
          "data": {
            "text/plain": [
              "Index(['fixed acidity', 'volatile acidity', 'citric acid', 'residual sugar',\n",
              "       'chlorides', 'free sulfur dioxide', 'total sulfur dioxide', 'density',\n",
              "       'pH', 'sulphates', 'alcohol', 'quality'],\n",
              "      dtype='object')"
            ]
          },
          "metadata": {
            "tags": []
          },
          "execution_count": 5
        }
      ]
    },
    {
      "cell_type": "code",
      "metadata": {
        "id": "FFaE_3_Q3Nuf",
        "colab_type": "code",
        "colab": {
          "base_uri": "https://localhost:8080/",
          "height": 34
        },
        "outputId": "c5d8cae5-45c7-4d66-ea99-642d4d137c20"
      },
      "source": [
        "print(\"The shape of dataset is\", df.shape)"
      ],
      "execution_count": 6,
      "outputs": [
        {
          "output_type": "stream",
          "text": [
            "The shape of dataset is (1599, 12)\n"
          ],
          "name": "stdout"
        }
      ]
    },
    {
      "cell_type": "code",
      "metadata": {
        "id": "h-zf0LZf3Nuo",
        "colab_type": "code",
        "colab": {
          "base_uri": "https://localhost:8080/",
          "height": 238
        },
        "outputId": "a436823b-4d78-4fc1-80cf-fa7a810078cc"
      },
      "source": [
        "df.dtypes"
      ],
      "execution_count": 7,
      "outputs": [
        {
          "output_type": "execute_result",
          "data": {
            "text/plain": [
              "fixed acidity           float64\n",
              "volatile acidity        float64\n",
              "citric acid             float64\n",
              "residual sugar          float64\n",
              "chlorides               float64\n",
              "free sulfur dioxide     float64\n",
              "total sulfur dioxide    float64\n",
              "density                 float64\n",
              "pH                      float64\n",
              "sulphates               float64\n",
              "alcohol                 float64\n",
              "quality                   int64\n",
              "dtype: object"
            ]
          },
          "metadata": {
            "tags": []
          },
          "execution_count": 7
        }
      ]
    },
    {
      "cell_type": "code",
      "metadata": {
        "id": "INoZFFbk3Nuw",
        "colab_type": "code",
        "colab": {
          "base_uri": "https://localhost:8080/",
          "height": 238
        },
        "outputId": "efbf7704-b68d-4112-b8e9-890b38cf2ae9"
      },
      "source": [
        "df.isnull().sum()"
      ],
      "execution_count": 8,
      "outputs": [
        {
          "output_type": "execute_result",
          "data": {
            "text/plain": [
              "fixed acidity           0\n",
              "volatile acidity        0\n",
              "citric acid             0\n",
              "residual sugar          0\n",
              "chlorides               0\n",
              "free sulfur dioxide     0\n",
              "total sulfur dioxide    0\n",
              "density                 0\n",
              "pH                      0\n",
              "sulphates               0\n",
              "alcohol                 0\n",
              "quality                 0\n",
              "dtype: int64"
            ]
          },
          "metadata": {
            "tags": []
          },
          "execution_count": 8
        }
      ]
    },
    {
      "cell_type": "markdown",
      "metadata": {
        "id": "zP7i1hiX3Nu6",
        "colab_type": "text"
      },
      "source": [
        "**data is cleaned and numeric too.**"
      ]
    },
    {
      "cell_type": "code",
      "metadata": {
        "id": "-6Mc5XuE3Nu8",
        "colab_type": "code",
        "colab": {
          "base_uri": "https://localhost:8080/",
          "height": 136
        },
        "outputId": "e60b18f2-b44c-411f-d7bf-9ec03d426648"
      },
      "source": [
        "df['quality'].value_counts()"
      ],
      "execution_count": 9,
      "outputs": [
        {
          "output_type": "execute_result",
          "data": {
            "text/plain": [
              "5    681\n",
              "6    638\n",
              "7    199\n",
              "4     53\n",
              "8     18\n",
              "3     10\n",
              "Name: quality, dtype: int64"
            ]
          },
          "metadata": {
            "tags": []
          },
          "execution_count": 9
        }
      ]
    },
    {
      "cell_type": "markdown",
      "metadata": {
        "id": "ePWVExyI3NvE",
        "colab_type": "text"
      },
      "source": [
        "**Data Plots to see their trends and relationships**\n",
        "**We have all independent variables are numeric, no categorical, so we will plot these using barplots against target variable**"
      ]
    },
    {
      "cell_type": "code",
      "metadata": {
        "id": "wZfxn9v83NvG",
        "colab_type": "code",
        "colab": {
          "base_uri": "https://localhost:8080/",
          "height": 309
        },
        "outputId": "b41683ad-0312-49f0-ed16-285ed1734565"
      },
      "source": [
        "# Target variable (quality) bar plot\n",
        "wine_quality_plot=df['quality'].value_counts().plot.bar()\n",
        "plt.title(\"Distribution of qualities of wine\")\n",
        "plt.xlabel(\"Categories of Qualities of Wine\")\n",
        "plt.ylabel(\"Count\")\n",
        "# It shows that wine quality 5 and 6 are very highly distributed and 3 at lowest"
      ],
      "execution_count": 10,
      "outputs": [
        {
          "output_type": "execute_result",
          "data": {
            "text/plain": [
              "Text(0, 0.5, 'Count')"
            ]
          },
          "metadata": {
            "tags": []
          },
          "execution_count": 10
        },
        {
          "output_type": "display_data",
          "data": {
            "image/png": "[encoded data removed]",
            "text/plain": [
              "<Figure size 432x288 with 1 Axes>"
            ]
          },
          "metadata": {
            "tags": [],
            "needs_background": "light"
          }
        }
      ]
    },
    {
      "cell_type": "code",
      "metadata": {
        "id": "NApjPY-i3NvO",
        "colab_type": "code",
        "colab": {
          "base_uri": "https://localhost:8080/",
          "height": 405
        },
        "outputId": "88188ca0-cbc4-4073-81c7-6260b2cfff25"
      },
      "source": [
        "#Here we see that fixed acidity does not give any specification to classify the quality.\n",
        "fig = plt.figure(figsize = (10,6))\n",
        "sns.barplot(x = 'quality', y = 'fixed acidity', data = df)"
      ],
      "execution_count": 11,
      "outputs": [
        {
          "output_type": "execute_result",
          "data": {
            "text/plain": [
              "<matplotlib.axes._subplots.AxesSubplot at 0x7f94b4f1f390>"
            ]
          },
          "metadata": {
            "tags": []
          },
          "execution_count": 11
        },
        {
          "output_type": "display_data",
          "data": {
            "image/png": "[encoded data removed]",
            "text/plain": [
              "<Figure size 720x432 with 1 Axes>"
            ]
          },
          "metadata": {
            "tags": [],
            "needs_background": "light"
          }
        }
      ]
    },
    {
      "cell_type": "code",
      "metadata": {
        "id": "24eufx4k3NvY",
        "colab_type": "code",
        "colab": {
          "base_uri": "https://localhost:8080/",
          "height": 405
        },
        "outputId": "f4c34113-52d3-44fc-f332-6ac45aa076c5"
      },
      "source": [
        "#Here we see that its quite a downing trend in the volatile acidity as we go higher the quality \n",
        "fig = plt.figure(figsize = (10,6))\n",
        "sns.barplot(x = 'quality', y = 'volatile acidity', data = df)"
      ],
      "execution_count": 12,
      "outputs": [
        {
          "output_type": "execute_result",
          "data": {
            "text/plain": [
              "<matplotlib.axes._subplots.AxesSubplot at 0x7f94ce0a4400>"
            ]
          },
          "metadata": {
            "tags": []
          },
          "execution_count": 12
        },
        {
          "output_type": "display_data",
          "data": {
            "image/png": "[encoded data removed]",
            "text/plain": [
              "<Figure size 720x432 with 1 Axes>"
            ]
          },
          "metadata": {
            "tags": [],
            "needs_background": "light"
          }
        }
      ]
    },
    {
      "cell_type": "code",
      "metadata": {
        "id": "jLALFos23Nvg",
        "colab_type": "code",
        "colab": {
          "base_uri": "https://localhost:8080/",
          "height": 405
        },
        "outputId": "d5e0116f-baea-40fb-ff71-055e7ea09f2d"
      },
      "source": [
        "#Composition of citric acid go higher as we go higher in the quality of the wine\n",
        "fig = plt.figure(figsize = (10,6))\n",
        "sns.barplot(x = 'quality', y = 'citric acid', data = df)"
      ],
      "execution_count": 13,
      "outputs": [
        {
          "output_type": "execute_result",
          "data": {
            "text/plain": [
              "<matplotlib.axes._subplots.AxesSubplot at 0x7f94dce99240>"
            ]
          },
          "metadata": {
            "tags": []
          },
          "execution_count": 13
        },
        {
          "output_type": "display_data",
          "data": {
            "image/png": "[encoded data removed]",
            "text/plain": [
              "<Figure size 720x432 with 1 Axes>"
            ]
          },
          "metadata": {
            "tags": [],
            "needs_background": "light"
          }
        }
      ]
    },
    {
      "cell_type": "code",
      "metadata": {
        "id": "0slUj74e3Nvp",
        "colab_type": "code",
        "colab": {
          "base_uri": "https://localhost:8080/",
          "height": 405
        },
        "outputId": "ced02108-faf5-4010-d7bb-16a0ee5b4704"
      },
      "source": [
        "fig = plt.figure(figsize = (10,6))\n",
        "sns.barplot(x = 'quality', y = 'residual sugar', data = df)\n",
        "# Nothing signicant can be inferred from this"
      ],
      "execution_count": 14,
      "outputs": [
        {
          "output_type": "execute_result",
          "data": {
            "text/plain": [
              "<matplotlib.axes._subplots.AxesSubplot at 0x7f94b4920438>"
            ]
          },
          "metadata": {
            "tags": []
          },
          "execution_count": 14
        },
        {
          "output_type": "display_data",
          "data": {
            "image/png": "[encoded data removed]",
            "text/plain": [
              "<Figure size 720x432 with 1 Axes>"
            ]
          },
          "metadata": {
            "tags": [],
            "needs_background": "light"
          }
        }
      ]
    },
    {
      "cell_type": "code",
      "metadata": {
        "id": "9UP_zaUm3Nvv",
        "colab_type": "code",
        "colab": {
          "base_uri": "https://localhost:8080/",
          "height": 405
        },
        "outputId": "6e0874ab-b323-4d8f-8aaa-fc025ed25ae0"
      },
      "source": [
        "#Composition of chloride also go down as we go higher in the quality of the wine\n",
        "fig = plt.figure(figsize = (10,6))\n",
        "sns.barplot(x = 'quality', y = 'chlorides', data = df)"
      ],
      "execution_count": 15,
      "outputs": [
        {
          "output_type": "execute_result",
          "data": {
            "text/plain": [
              "<matplotlib.axes._subplots.AxesSubplot at 0x7f94b4862ef0>"
            ]
          },
          "metadata": {
            "tags": []
          },
          "execution_count": 15
        },
        {
          "output_type": "display_data",
          "data": {
            "image/png": "[encoded data removed]",
            "text/plain": [
              "<Figure size 720x432 with 1 Axes>"
            ]
          },
          "metadata": {
            "tags": [],
            "needs_background": "light"
          }
        }
      ]
    },
    {
      "cell_type": "code",
      "metadata": {
        "id": "X28dTVAz3Nv2",
        "colab_type": "code",
        "colab": {
          "base_uri": "https://localhost:8080/",
          "height": 405
        },
        "outputId": "7d511005-2d8b-41e9-af78-c5343f2a0c6f"
      },
      "source": [
        "fig = plt.figure(figsize = (10,6))\n",
        "sns.barplot(x = 'quality', y = 'free sulfur dioxide', data = df)\n",
        "# No significant trend can be derived from this"
      ],
      "execution_count": 16,
      "outputs": [
        {
          "output_type": "execute_result",
          "data": {
            "text/plain": [
              "<matplotlib.axes._subplots.AxesSubplot at 0x7f94b47c9ba8>"
            ]
          },
          "metadata": {
            "tags": []
          },
          "execution_count": 16
        },
        {
          "output_type": "display_data",
          "data": {
            "image/png": "[encoded data removed]",
            "text/plain": [
              "<Figure size 720x432 with 1 Axes>"
            ]
          },
          "metadata": {
            "tags": [],
            "needs_background": "light"
          }
        }
      ]
    },
    {
      "cell_type": "code",
      "metadata": {
        "id": "NLWYSKIB3Nv-",
        "colab_type": "code",
        "colab": {
          "base_uri": "https://localhost:8080/",
          "height": 405
        },
        "outputId": "c7908320-9a86-459b-c02d-a54374e31797"
      },
      "source": [
        "fig = plt.figure(figsize = (10,6))\n",
        "sns.barplot(x = 'quality', y = 'total sulfur dioxide', data = df)\n",
        "# No significant trend can be derived from this"
      ],
      "execution_count": 17,
      "outputs": [
        {
          "output_type": "execute_result",
          "data": {
            "text/plain": [
              "<matplotlib.axes._subplots.AxesSubplot at 0x7f94b4769080>"
            ]
          },
          "metadata": {
            "tags": []
          },
          "execution_count": 17
        },
        {
          "output_type": "display_data",
          "data": {
            "image/png": "[encoded data removed]",
            "text/plain": [
              "<Figure size 720x432 with 1 Axes>"
            ]
          },
          "metadata": {
            "tags": [],
            "needs_background": "light"
          }
        }
      ]
    },
    {
      "cell_type": "code",
      "metadata": {
        "id": "I9oUeAfm3NwG",
        "colab_type": "code",
        "colab": {
          "base_uri": "https://localhost:8080/",
          "height": 405
        },
        "outputId": "5451588e-b579-4e18-d059-c7d668ad9b78"
      },
      "source": [
        "#Sulphates level goes higher with the quality of wine\n",
        "fig = plt.figure(figsize = (10,6))\n",
        "sns.barplot(x = 'quality', y = 'sulphates', data = df)"
      ],
      "execution_count": 18,
      "outputs": [
        {
          "output_type": "execute_result",
          "data": {
            "text/plain": [
              "<matplotlib.axes._subplots.AxesSubplot at 0x7f94b4765cf8>"
            ]
          },
          "metadata": {
            "tags": []
          },
          "execution_count": 18
        },
        {
          "output_type": "display_data",
          "data": {
            "image/png": "[encoded data removed]",
            "text/plain": [
              "<Figure size 720x432 with 1 Axes>"
            ]
          },
          "metadata": {
            "tags": [],
            "needs_background": "light"
          }
        }
      ]
    },
    {
      "cell_type": "code",
      "metadata": {
        "id": "4lK4P03W3NwN",
        "colab_type": "code",
        "colab": {
          "base_uri": "https://localhost:8080/",
          "height": 405
        },
        "outputId": "bb70468e-a145-4d0d-8828-e07af0f28a11"
      },
      "source": [
        "#Alcohol level also goes higher as te quality of wine increases\n",
        "fig = plt.figure(figsize = (10,6))\n",
        "sns.barplot(x = 'quality', y = 'alcohol', data = df)"
      ],
      "execution_count": 19,
      "outputs": [
        {
          "output_type": "execute_result",
          "data": {
            "text/plain": [
              "<matplotlib.axes._subplots.AxesSubplot at 0x7f94b4697b38>"
            ]
          },
          "metadata": {
            "tags": []
          },
          "execution_count": 19
        },
        {
          "output_type": "display_data",
          "data": {
            "image/png": "[encoded data removed]",
            "text/plain": [
              "<Figure size 720x432 with 1 Axes>"
            ]
          },
          "metadata": {
            "tags": [],
            "needs_background": "light"
          }
        }
      ]
    },
    {
      "cell_type": "markdown",
      "metadata": {
        "id": "LUris1R23NwV",
        "colab_type": "text"
      },
      "source": [
        "**Data Preprocessing for machine learning**"
      ]
    },
    {
      "cell_type": "code",
      "metadata": {
        "id": "oqsFYD363Nwa",
        "colab_type": "code",
        "colab": {}
      },
      "source": [
        "#Making binary classificaion for the response variable.\n",
        "#Dividing wine as good and bad by giving the limit for the quality\n",
        "bins = (2, 6.5, 8)\n",
        "group_names = ['bad', 'good']\n",
        "df['quality'] = pd.cut(df['quality'], bins = bins, labels = group_names)"
      ],
      "execution_count": 20,
      "outputs": []
    },
    {
      "cell_type": "code",
      "metadata": {
        "id": "W_ImGf5R3Nwg",
        "colab_type": "code",
        "colab": {}
      },
      "source": [
        "from sklearn.preprocessing import LabelEncoder\n",
        "#Now lets assign a labels to our quality variable\n",
        "label_quality = LabelEncoder()"
      ],
      "execution_count": 21,
      "outputs": []
    },
    {
      "cell_type": "code",
      "metadata": {
        "id": "_f0qUIZm3Nwm",
        "colab_type": "code",
        "colab": {}
      },
      "source": [
        "#Bad becomes 0 and good becomes 1 \n",
        "df['quality'] = label_quality.fit_transform(df['quality'])"
      ],
      "execution_count": 22,
      "outputs": []
    },
    {
      "cell_type": "code",
      "metadata": {
        "id": "VPueC7Di3Nws",
        "colab_type": "code",
        "colab": {
          "base_uri": "https://localhost:8080/",
          "height": 68
        },
        "outputId": "30c97d77-c7cf-4652-caa2-634e82298d4d"
      },
      "source": [
        "df['quality'].value_counts()"
      ],
      "execution_count": 23,
      "outputs": [
        {
          "output_type": "execute_result",
          "data": {
            "text/plain": [
              "0    1382\n",
              "1     217\n",
              "Name: quality, dtype: int64"
            ]
          },
          "metadata": {
            "tags": []
          },
          "execution_count": 23
        }
      ]
    },
    {
      "cell_type": "code",
      "metadata": {
        "id": "-_Hcj4qg3Nwz",
        "colab_type": "code",
        "colab": {
          "base_uri": "https://localhost:8080/",
          "height": 309
        },
        "outputId": "3419caf3-b619-4216-b634-2058669014c9"
      },
      "source": [
        "# Target variable (quality) bar plot\n",
        "wine_quality_plot=df['quality'].value_counts().plot.bar()\n",
        "plt.title(\"Distribution of qualities of wine\")\n",
        "plt.xlabel(\"Categories of Qualities of Wine\")\n",
        "plt.ylabel(\"Count\")"
      ],
      "execution_count": 24,
      "outputs": [
        {
          "output_type": "execute_result",
          "data": {
            "text/plain": [
              "Text(0, 0.5, 'Count')"
            ]
          },
          "metadata": {
            "tags": []
          },
          "execution_count": 24
        },
        {
          "output_type": "display_data",
          "data": {
            "image/png": "[encoded data removed]",
            "text/plain": [
              "<Figure size 432x288 with 1 Axes>"
            ]
          },
          "metadata": {
            "tags": [],
            "needs_background": "light"
          }
        }
      ]
    },
    {
      "cell_type": "markdown",
      "metadata": {
        "id": "aIhSoutF3Nw6",
        "colab_type": "text"
      },
      "source": [
        "**It shows that bad quality wine is highly distributed as compared to good quality wine**"
      ]
    },
    {
      "cell_type": "markdown",
      "metadata": {
        "id": "hcFcGgQf3Nw8",
        "colab_type": "text"
      },
      "source": [
        "**Now target variable has 2 categories and therefore it is the case fo binary classification problem. I will try multiple machine learning models but before that I will do standardization of data**"
      ]
    },
    {
      "cell_type": "code",
      "metadata": {
        "id": "7NK5mHm13Nw9",
        "colab_type": "code",
        "colab": {}
      },
      "source": [
        "from sklearn.preprocessing import StandardScaler\n",
        "scaler = StandardScaler()"
      ],
      "execution_count": 25,
      "outputs": []
    },
    {
      "cell_type": "code",
      "metadata": {
        "id": "BQCNVv2g3NxD",
        "colab_type": "code",
        "colab": {}
      },
      "source": [
        "X1=df.drop('quality', 1)\n",
        "y=df['quality']"
      ],
      "execution_count": 26,
      "outputs": []
    },
    {
      "cell_type": "code",
      "metadata": {
        "id": "yEF6jcJo3NxJ",
        "colab_type": "code",
        "colab": {
          "base_uri": "https://localhost:8080/",
          "height": 238
        },
        "outputId": "53f1bd9f-37c0-43b1-d14e-0be84159ea58"
      },
      "source": [
        "X=scaler.fit_transform(X1)\n",
        "X"
      ],
      "execution_count": 27,
      "outputs": [
        {
          "output_type": "execute_result",
          "data": {
            "text/plain": [
              "array([[-0.52835961,  0.96187667, -1.39147228, ...,  1.28864292,\n",
              "        -0.57920652, -0.96024611],\n",
              "       [-0.29854743,  1.96744245, -1.39147228, ..., -0.7199333 ,\n",
              "         0.1289504 , -0.58477711],\n",
              "       [-0.29854743,  1.29706527, -1.18607043, ..., -0.33117661,\n",
              "        -0.04808883, -0.58477711],\n",
              "       ...,\n",
              "       [-1.1603431 , -0.09955388, -0.72391627, ...,  0.70550789,\n",
              "         0.54204194,  0.54162988],\n",
              "       [-1.39015528,  0.65462046, -0.77526673, ...,  1.6773996 ,\n",
              "         0.30598963, -0.20930812],\n",
              "       [-1.33270223, -1.21684919,  1.02199944, ...,  0.51112954,\n",
              "         0.01092425,  0.54162988]])"
            ]
          },
          "metadata": {
            "tags": []
          },
          "execution_count": 27
        }
      ]
    },
    {
      "cell_type": "code",
      "metadata": {
        "id": "VTp26CPd3NxQ",
        "colab_type": "code",
        "colab": {
          "base_uri": "https://localhost:8080/",
          "height": 51
        },
        "outputId": "93663483-3ebb-4023-bcee-f56387f4e059"
      },
      "source": [
        "print(\"The shape of independent variables\", X.shape)\n",
        "print(\"The shape of traget variable\", y.shape)"
      ],
      "execution_count": 28,
      "outputs": [
        {
          "output_type": "stream",
          "text": [
            "The shape of independent variables (1599, 11)\n",
            "The shape of traget variable (1599,)\n"
          ],
          "name": "stdout"
        }
      ]
    },
    {
      "cell_type": "markdown",
      "metadata": {
        "id": "rAdnArDA3NxZ",
        "colab_type": "text"
      },
      "source": [
        "**We have 1599 rows and 11 independent columns or variables**"
      ]
    },
    {
      "cell_type": "code",
      "metadata": {
        "id": "_Cjf7iVW3Nxa",
        "colab_type": "code",
        "colab": {
          "base_uri": "https://localhost:8080/",
          "height": 51
        },
        "outputId": "55c936b8-d771-4b9c-bd50-f5eb40981213"
      },
      "source": [
        "# With sklearn train_test_split\n",
        "\n",
        "from sklearn.model_selection import train_test_split\n",
        "X_train,X_test,y_train,y_test = train_test_split(X,y, test_size=0.25, random_state=42)\n",
        "\n",
        "print((X_train.shape), \"X_train +\", (X_test.shape), \"X_test\")\n",
        "print((y_train.shape), \"y_train +\", (y_test.shape), \"y_test\")"
      ],
      "execution_count": 29,
      "outputs": [
        {
          "output_type": "stream",
          "text": [
            "(1199, 11) X_train + (400, 11) X_test\n",
            "(1199,) y_train + (400,) y_test\n"
          ],
          "name": "stdout"
        }
      ]
    },
    {
      "cell_type": "markdown",
      "metadata": {
        "id": "IiA8EfSL3Nxg",
        "colab_type": "text"
      },
      "source": [
        "**Machine learning models used**\n",
        "\n",
        "**1. Logistic Regression Classifier**\n",
        "\n",
        "**2. Random Forest Classifier**\n",
        "\n",
        "**3. SGD Classifier**\n",
        "\n",
        "**4. SVC classifier **\n",
        "\n",
        "**5. Voting Classifier**\n",
        "\n",
        "**6. Bagging Classifier**\n",
        "\n",
        "**7. Extra Tree Classifier**\n",
        "\n",
        "**8. Adaboost Classifier**\n",
        "\n",
        "**9. XGBoost Classifier**\n",
        "\n",
        "**9. SVC & XGBoost Classifier with grid search(Hyperparametr Tuning, which would tell us best parameters to be taken inside classifier for best results)**\n",
        "\n",
        "**10. Random forest and SGD for cross validation to improve accuracy**"
      ]
    },
    {
      "cell_type": "code",
      "metadata": {
        "id": "srPWVfdD3Nxj",
        "colab_type": "code",
        "colab": {}
      },
      "source": [
        "from sklearn.linear_model import LogisticRegression"
      ],
      "execution_count": 30,
      "outputs": []
    },
    {
      "cell_type": "code",
      "metadata": {
        "id": "s6imShQn3Nxp",
        "colab_type": "code",
        "colab": {}
      },
      "source": [
        "clf1=LogisticRegression(random_state=42)"
      ],
      "execution_count": 31,
      "outputs": []
    },
    {
      "cell_type": "code",
      "metadata": {
        "id": "xziZI2kA3Nxw",
        "colab_type": "code",
        "colab": {
          "base_uri": "https://localhost:8080/",
          "height": 102
        },
        "outputId": "ae514600-c84f-4aae-fc14-aaaf6882a80c"
      },
      "source": [
        "clf1.fit(X_train,y_train)"
      ],
      "execution_count": 32,
      "outputs": [
        {
          "output_type": "execute_result",
          "data": {
            "text/plain": [
              "LogisticRegression(C=1.0, class_weight=None, dual=False, fit_intercept=True,\n",
              "                   intercept_scaling=1, l1_ratio=None, max_iter=100,\n",
              "                   multi_class='auto', n_jobs=None, penalty='l2',\n",
              "                   random_state=42, solver='lbfgs', tol=0.0001, verbose=0,\n",
              "                   warm_start=False)"
            ]
          },
          "metadata": {
            "tags": []
          },
          "execution_count": 32
        }
      ]
    },
    {
      "cell_type": "code",
      "metadata": {
        "id": "Y3oAsbov3Nx1",
        "colab_type": "code",
        "colab": {}
      },
      "source": [
        "y_pred1=clf1.predict(X_test)"
      ],
      "execution_count": 33,
      "outputs": []
    },
    {
      "cell_type": "code",
      "metadata": {
        "id": "j8MHtdC03Nx8",
        "colab_type": "code",
        "colab": {
          "base_uri": "https://localhost:8080/",
          "height": 170
        },
        "outputId": "3903b5f9-4669-4a0c-eaee-2f7ec5d8b3de"
      },
      "source": [
        "from sklearn.metrics import classification_report\n",
        "#Let's see how our model performed\n",
        "print(classification_report(y_test, y_pred1))"
      ],
      "execution_count": 34,
      "outputs": [
        {
          "output_type": "stream",
          "text": [
            "              precision    recall  f1-score   support\n",
            "\n",
            "           0       0.90      0.97      0.93       347\n",
            "           1       0.57      0.30      0.40        53\n",
            "\n",
            "    accuracy                           0.88       400\n",
            "   macro avg       0.74      0.63      0.66       400\n",
            "weighted avg       0.86      0.88      0.86       400\n",
            "\n"
          ],
          "name": "stdout"
        }
      ]
    },
    {
      "cell_type": "code",
      "metadata": {
        "id": "MA_Sueej3NyC",
        "colab_type": "code",
        "colab": {}
      },
      "source": [
        "from sklearn.ensemble import RandomForestClassifier \n",
        "clf2 = RandomForestClassifier(random_state=42)"
      ],
      "execution_count": 35,
      "outputs": []
    },
    {
      "cell_type": "code",
      "metadata": {
        "id": "dGYJ-J0K3NyH",
        "colab_type": "code",
        "colab": {
          "base_uri": "https://localhost:8080/",
          "height": 153
        },
        "outputId": "66a336e7-f05e-450a-8068-8efce8c6db65"
      },
      "source": [
        "clf2.fit(X_train, y_train)"
      ],
      "execution_count": 36,
      "outputs": [
        {
          "output_type": "execute_result",
          "data": {
            "text/plain": [
              "RandomForestClassifier(bootstrap=True, ccp_alpha=0.0, class_weight=None,\n",
              "                       criterion='gini', max_depth=None, max_features='auto',\n",
              "                       max_leaf_nodes=None, max_samples=None,\n",
              "                       min_impurity_decrease=0.0, min_impurity_split=None,\n",
              "                       min_samples_leaf=1, min_samples_split=2,\n",
              "                       min_weight_fraction_leaf=0.0, n_estimators=100,\n",
              "                       n_jobs=None, oob_score=False, random_state=42, verbose=0,\n",
              "                       warm_start=False)"
            ]
          },
          "metadata": {
            "tags": []
          },
          "execution_count": 36
        }
      ]
    },
    {
      "cell_type": "code",
      "metadata": {
        "id": "Uk_V-Mka3NyN",
        "colab_type": "code",
        "colab": {}
      },
      "source": [
        "y_pred2=clf2.predict(X_test)"
      ],
      "execution_count": 37,
      "outputs": []
    },
    {
      "cell_type": "code",
      "metadata": {
        "id": "r2Axa5tl3NyV",
        "colab_type": "code",
        "colab": {
          "base_uri": "https://localhost:8080/",
          "height": 170
        },
        "outputId": "a751a3a8-d1ba-4121-b278-bd47f356fdae"
      },
      "source": [
        "from sklearn.metrics import classification_report\n",
        "#Let's see how our model performed\n",
        "print(classification_report(y_test, y_pred2))"
      ],
      "execution_count": 38,
      "outputs": [
        {
          "output_type": "stream",
          "text": [
            "              precision    recall  f1-score   support\n",
            "\n",
            "           0       0.93      0.97      0.95       347\n",
            "           1       0.75      0.51      0.61        53\n",
            "\n",
            "    accuracy                           0.91       400\n",
            "   macro avg       0.84      0.74      0.78       400\n",
            "weighted avg       0.90      0.91      0.91       400\n",
            "\n"
          ],
          "name": "stdout"
        }
      ]
    },
    {
      "cell_type": "code",
      "metadata": {
        "id": "OmXlUGkr3Nyd",
        "colab_type": "code",
        "colab": {
          "base_uri": "https://localhost:8080/",
          "height": 173
        },
        "outputId": "214d1273-2864-4799-9f9e-a8628307158c"
      },
      "source": [
        "from sklearn.linear_model import SGDClassifier   \n",
        "\n",
        "clf3 = SGDClassifier(random_state=42, max_iter=10) # if you want reproducible results set the random_state value.\n",
        "clf3.fit(X_train, y_train)"
      ],
      "execution_count": 39,
      "outputs": [
        {
          "output_type": "stream",
          "text": [
            "/usr/local/lib/python3.6/dist-packages/sklearn/linear_model/_stochastic_gradient.py:557: ConvergenceWarning: Maximum number of iteration reached before convergence. Consider increasing max_iter to improve the fit.\n",
            "  ConvergenceWarning)\n"
          ],
          "name": "stderr"
        },
        {
          "output_type": "execute_result",
          "data": {
            "text/plain": [
              "SGDClassifier(alpha=0.0001, average=False, class_weight=None,\n",
              "              early_stopping=False, epsilon=0.1, eta0=0.0, fit_intercept=True,\n",
              "              l1_ratio=0.15, learning_rate='optimal', loss='hinge', max_iter=10,\n",
              "              n_iter_no_change=5, n_jobs=None, penalty='l2', power_t=0.5,\n",
              "              random_state=42, shuffle=True, tol=0.001, validation_fraction=0.1,\n",
              "              verbose=0, warm_start=False)"
            ]
          },
          "metadata": {
            "tags": []
          },
          "execution_count": 39
        }
      ]
    },
    {
      "cell_type": "code",
      "metadata": {
        "id": "V_0wJOD_3Nyj",
        "colab_type": "code",
        "colab": {}
      },
      "source": [
        "y_pred3=clf3.predict(X_test)"
      ],
      "execution_count": 40,
      "outputs": []
    },
    {
      "cell_type": "code",
      "metadata": {
        "id": "8ckuCSxU3Nyo",
        "colab_type": "code",
        "colab": {
          "base_uri": "https://localhost:8080/",
          "height": 170
        },
        "outputId": "42fa9e51-4a27-4926-94d8-0f4dda80cfb8"
      },
      "source": [
        "from sklearn.metrics import classification_report\n",
        "#Let's see how our model performed\n",
        "print(classification_report(y_test, y_pred3))"
      ],
      "execution_count": 41,
      "outputs": [
        {
          "output_type": "stream",
          "text": [
            "              precision    recall  f1-score   support\n",
            "\n",
            "           0       0.94      0.86      0.90       347\n",
            "           1       0.40      0.62      0.49        53\n",
            "\n",
            "    accuracy                           0.83       400\n",
            "   macro avg       0.67      0.74      0.69       400\n",
            "weighted avg       0.87      0.83      0.84       400\n",
            "\n"
          ],
          "name": "stdout"
        }
      ]
    },
    {
      "cell_type": "code",
      "metadata": {
        "id": "xz8CueVI3Ny6",
        "colab_type": "code",
        "colab": {}
      },
      "source": [
        "from sklearn.svm import SVC\n",
        "clf4 = SVC()"
      ],
      "execution_count": 42,
      "outputs": []
    },
    {
      "cell_type": "code",
      "metadata": {
        "id": "Eh_ROgP23NzA",
        "colab_type": "code",
        "colab": {
          "base_uri": "https://localhost:8080/",
          "height": 85
        },
        "outputId": "986d446f-a7e9-45b5-c80e-c54c60f7e451"
      },
      "source": [
        "clf4.fit(X_train, y_train)"
      ],
      "execution_count": 43,
      "outputs": [
        {
          "output_type": "execute_result",
          "data": {
            "text/plain": [
              "SVC(C=1.0, break_ties=False, cache_size=200, class_weight=None, coef0=0.0,\n",
              "    decision_function_shape='ovr', degree=3, gamma='scale', kernel='rbf',\n",
              "    max_iter=-1, probability=False, random_state=None, shrinking=True,\n",
              "    tol=0.001, verbose=False)"
            ]
          },
          "metadata": {
            "tags": []
          },
          "execution_count": 43
        }
      ]
    },
    {
      "cell_type": "code",
      "metadata": {
        "id": "EWgpjGs33NzK",
        "colab_type": "code",
        "colab": {}
      },
      "source": [
        "y_pred4 = clf4.predict(X_test)"
      ],
      "execution_count": 44,
      "outputs": []
    },
    {
      "cell_type": "code",
      "metadata": {
        "id": "LIeTq6fn3NzS",
        "colab_type": "code",
        "colab": {
          "base_uri": "https://localhost:8080/",
          "height": 170
        },
        "outputId": "f77e08af-4efa-48cb-b963-2d588a12bb2a"
      },
      "source": [
        "#Let's see how our model performed\n",
        "print(classification_report(y_test, y_pred4))"
      ],
      "execution_count": 45,
      "outputs": [
        {
          "output_type": "stream",
          "text": [
            "              precision    recall  f1-score   support\n",
            "\n",
            "           0       0.90      0.98      0.94       347\n",
            "           1       0.71      0.28      0.41        53\n",
            "\n",
            "    accuracy                           0.89       400\n",
            "   macro avg       0.81      0.63      0.67       400\n",
            "weighted avg       0.88      0.89      0.87       400\n",
            "\n"
          ],
          "name": "stdout"
        }
      ]
    },
    {
      "cell_type": "code",
      "metadata": {
        "id": "02ogf-Cr3Nzb",
        "colab_type": "code",
        "colab": {
          "base_uri": "https://localhost:8080/",
          "height": 476
        },
        "outputId": "0f6b5294-c510-445a-8691-9ffa0b6a9ca1"
      },
      "source": [
        "from sklearn.ensemble import RandomForestClassifier\n",
        "from sklearn.ensemble import VotingClassifier                 \n",
        "from sklearn.linear_model import LogisticRegression\n",
        "from sklearn.svm import SVC\n",
        "\n",
        "log_clf = LogisticRegression(random_state=42)\n",
        "rnd_clf = RandomForestClassifier(random_state=42)\n",
        "svm_clf = SVC(random_state=42)\n",
        "\n",
        "voting_clf4 = VotingClassifier(\n",
        "    estimators=[('lr', log_clf), ('rf', rnd_clf), ('svc', svm_clf)],\n",
        "    voting='hard')\n",
        "voting_clf4.fit(X_train, y_train)"
      ],
      "execution_count": 46,
      "outputs": [
        {
          "output_type": "execute_result",
          "data": {
            "text/plain": [
              "VotingClassifier(estimators=[('lr',\n",
              "                              LogisticRegression(C=1.0, class_weight=None,\n",
              "                                                 dual=False, fit_intercept=True,\n",
              "                                                 intercept_scaling=1,\n",
              "                                                 l1_ratio=None, max_iter=100,\n",
              "                                                 multi_class='auto',\n",
              "                                                 n_jobs=None, penalty='l2',\n",
              "                                                 random_state=42,\n",
              "                                                 solver='lbfgs', tol=0.0001,\n",
              "                                                 verbose=0, warm_start=False)),\n",
              "                             ('rf',\n",
              "                              RandomForestClassifier(bootstrap=True,\n",
              "                                                     ccp_alpha=0.0,\n",
              "                                                     class_weight=None,\n",
              "                                                     crit...\n",
              "                                                     oob_score=False,\n",
              "                                                     random_state=42, verbose=0,\n",
              "                                                     warm_start=False)),\n",
              "                             ('svc',\n",
              "                              SVC(C=1.0, break_ties=False, cache_size=200,\n",
              "                                  class_weight=None, coef0=0.0,\n",
              "                                  decision_function_shape='ovr', degree=3,\n",
              "                                  gamma='scale', kernel='rbf', max_iter=-1,\n",
              "                                  probability=False, random_state=42,\n",
              "                                  shrinking=True, tol=0.001, verbose=False))],\n",
              "                 flatten_transform=True, n_jobs=None, voting='hard',\n",
              "                 weights=None)"
            ]
          },
          "metadata": {
            "tags": []
          },
          "execution_count": 46
        }
      ]
    },
    {
      "cell_type": "code",
      "metadata": {
        "id": "7YNCjItz3Nzj",
        "colab_type": "code",
        "colab": {
          "base_uri": "https://localhost:8080/",
          "height": 85
        },
        "outputId": "6ac34ba3-ffaa-4c82-b4c6-03ad58b12302"
      },
      "source": [
        "\n",
        "from sklearn.metrics import accuracy_score\n",
        "\n",
        "for clf in (log_clf, rnd_clf, svm_clf, voting_clf4):\n",
        "    clf.fit(X_train, y_train)\n",
        "    y_pred5 = clf.predict(X_test)\n",
        "    print(clf.__class__.__name__, accuracy_score(y_test, y_pred5))"
      ],
      "execution_count": 76,
      "outputs": [
        {
          "output_type": "stream",
          "text": [
            "LogisticRegression 0.8775\n",
            "RandomForestClassifier 0.9125\n",
            "SVC 0.89\n",
            "VotingClassifier 0.885\n"
          ],
          "name": "stdout"
        }
      ]
    },
    {
      "cell_type": "code",
      "metadata": {
        "id": "yMt2Fq-G3Nzr",
        "colab_type": "code",
        "colab": {}
      },
      "source": [
        "from sklearn.ensemble import BaggingClassifier     \n",
        "from sklearn.ensemble import RandomForestClassifier\n",
        "\n",
        "bag_clf5 = BaggingClassifier( \n",
        "    RandomForestClassifier(), \n",
        "    n_estimators=500, \n",
        "    max_samples=300, \n",
        "    bootstrap=False, \n",
        "    n_jobs=-1\n",
        ")"
      ],
      "execution_count": 48,
      "outputs": []
    },
    {
      "cell_type": "code",
      "metadata": {
        "id": "3XMRLflC3Nzz",
        "colab_type": "code",
        "colab": {
          "base_uri": "https://localhost:8080/",
          "height": 391
        },
        "outputId": "67a6b42f-fd72-459b-b0d0-b9c014e0e7db"
      },
      "source": [
        "bag_clf5.fit(X_train, y_train)"
      ],
      "execution_count": 49,
      "outputs": [
        {
          "output_type": "execute_result",
          "data": {
            "text/plain": [
              "BaggingClassifier(base_estimator=RandomForestClassifier(bootstrap=True,\n",
              "                                                        ccp_alpha=0.0,\n",
              "                                                        class_weight=None,\n",
              "                                                        criterion='gini',\n",
              "                                                        max_depth=None,\n",
              "                                                        max_features='auto',\n",
              "                                                        max_leaf_nodes=None,\n",
              "                                                        max_samples=None,\n",
              "                                                        min_impurity_decrease=0.0,\n",
              "                                                        min_impurity_split=None,\n",
              "                                                        min_samples_leaf=1,\n",
              "                                                        min_samples_split=2,\n",
              "                                                        min_weight_fraction_leaf=0.0,\n",
              "                                                        n_estimators=100,\n",
              "                                                        n_jobs=None,\n",
              "                                                        oob_score=False,\n",
              "                                                        random_state=None,\n",
              "                                                        verbose=0,\n",
              "                                                        warm_start=False),\n",
              "                  bootstrap=False, bootstrap_features=False, max_features=1.0,\n",
              "                  max_samples=300, n_estimators=500, n_jobs=-1, oob_score=False,\n",
              "                  random_state=None, verbose=0, warm_start=False)"
            ]
          },
          "metadata": {
            "tags": []
          },
          "execution_count": 49
        }
      ]
    },
    {
      "cell_type": "code",
      "metadata": {
        "id": "rz9yLU4W3Nz5",
        "colab_type": "code",
        "colab": {}
      },
      "source": [
        "y_pred6 = bag_clf5.predict(X_test)"
      ],
      "execution_count": 77,
      "outputs": []
    },
    {
      "cell_type": "code",
      "metadata": {
        "id": "8EXuzc523N0B",
        "colab_type": "code",
        "colab": {
          "base_uri": "https://localhost:8080/",
          "height": 170
        },
        "outputId": "c2b915c5-2813-4093-d9f7-4db6a96210cf"
      },
      "source": [
        "#Let's see how our model performed\n",
        "print(classification_report(y_test, y_pred6))"
      ],
      "execution_count": 78,
      "outputs": [
        {
          "output_type": "stream",
          "text": [
            "              precision    recall  f1-score   support\n",
            "\n",
            "           0       0.90      0.98      0.94       347\n",
            "           1       0.67      0.26      0.38        53\n",
            "\n",
            "    accuracy                           0.89       400\n",
            "   macro avg       0.78      0.62      0.66       400\n",
            "weighted avg       0.87      0.89      0.86       400\n",
            "\n"
          ],
          "name": "stdout"
        }
      ]
    },
    {
      "cell_type": "code",
      "metadata": {
        "id": "sGenl82x3N0G",
        "colab_type": "code",
        "colab": {}
      },
      "source": [
        "from sklearn.ensemble import ExtraTreesClassifier   \n",
        "\n",
        "clf7 = ExtraTreesClassifier(n_estimators=195, max_leaf_nodes=16, n_jobs=-1, random_state=42)"
      ],
      "execution_count": 79,
      "outputs": []
    },
    {
      "cell_type": "code",
      "metadata": {
        "id": "VCBJQeKq3N0T",
        "colab_type": "code",
        "colab": {
          "base_uri": "https://localhost:8080/",
          "height": 153
        },
        "outputId": "37c25941-bd5c-40ac-f173-27c1945ca6a2"
      },
      "source": [
        "clf7.fit(X_train, y_train)"
      ],
      "execution_count": 80,
      "outputs": [
        {
          "output_type": "execute_result",
          "data": {
            "text/plain": [
              "ExtraTreesClassifier(bootstrap=False, ccp_alpha=0.0, class_weight=None,\n",
              "                     criterion='gini', max_depth=None, max_features='auto',\n",
              "                     max_leaf_nodes=16, max_samples=None,\n",
              "                     min_impurity_decrease=0.0, min_impurity_split=None,\n",
              "                     min_samples_leaf=1, min_samples_split=2,\n",
              "                     min_weight_fraction_leaf=0.0, n_estimators=195, n_jobs=-1,\n",
              "                     oob_score=False, random_state=42, verbose=0,\n",
              "                     warm_start=False)"
            ]
          },
          "metadata": {
            "tags": []
          },
          "execution_count": 80
        }
      ]
    },
    {
      "cell_type": "code",
      "metadata": {
        "id": "cRpwcywg3N0f",
        "colab_type": "code",
        "colab": {}
      },
      "source": [
        "y_pred7 = clf7.predict(X_test)"
      ],
      "execution_count": 82,
      "outputs": []
    },
    {
      "cell_type": "code",
      "metadata": {
        "id": "pon85MCK5mQy",
        "colab_type": "code",
        "colab": {
          "base_uri": "https://localhost:8080/",
          "height": 170
        },
        "outputId": "ac1eda3a-ca93-4262-e902-58d64bcc4fa6"
      },
      "source": [
        "#Let's see how our model performed\n",
        "print(classification_report(y_test, y_pred7))"
      ],
      "execution_count": 83,
      "outputs": [
        {
          "output_type": "stream",
          "text": [
            "              precision    recall  f1-score   support\n",
            "\n",
            "           0       0.87      1.00      0.93       347\n",
            "           1       1.00      0.02      0.04        53\n",
            "\n",
            "    accuracy                           0.87       400\n",
            "   macro avg       0.93      0.51      0.48       400\n",
            "weighted avg       0.89      0.87      0.81       400\n",
            "\n"
          ],
          "name": "stdout"
        }
      ]
    },
    {
      "cell_type": "code",
      "metadata": {
        "id": "dfAk6Rc03N0n",
        "colab_type": "code",
        "colab": {}
      },
      "source": [
        "from sklearn.ensemble import AdaBoostClassifier   \n",
        "\n",
        "clf8 = AdaBoostClassifier(\n",
        "    RandomForestClassifier(max_depth=1), n_estimators=200,\n",
        "    algorithm=\"SAMME.R\", learning_rate=0.5, random_state=42)\n",
        "clf8.fit(X_train, y_train)\n",
        "y_pred8 = clf8.predict(X_test)"
      ],
      "execution_count": 84,
      "outputs": []
    },
    {
      "cell_type": "code",
      "metadata": {
        "id": "Z16dhVm-5qQ9",
        "colab_type": "code",
        "colab": {
          "base_uri": "https://localhost:8080/",
          "height": 170
        },
        "outputId": "be02531b-4a10-45c5-9ac2-77d4ba20a707"
      },
      "source": [
        "#Let's see how our model performed\n",
        "print(classification_report(y_test, y_pred8))"
      ],
      "execution_count": 85,
      "outputs": [
        {
          "output_type": "stream",
          "text": [
            "              precision    recall  f1-score   support\n",
            "\n",
            "           0       0.91      0.95      0.93       347\n",
            "           1       0.53      0.38      0.44        53\n",
            "\n",
            "    accuracy                           0.87       400\n",
            "   macro avg       0.72      0.66      0.68       400\n",
            "weighted avg       0.86      0.87      0.86       400\n",
            "\n"
          ],
          "name": "stdout"
        }
      ]
    },
    {
      "cell_type": "code",
      "metadata": {
        "id": "fuK4NASY5s81",
        "colab_type": "code",
        "colab": {}
      },
      "source": [
        "from xgboost import XGBClassifier  \n",
        "clf9 = XGBClassifier()\n",
        "clf9.fit(X_train, y_train)\n",
        "y_pred9 = clf9.predict(X_test)"
      ],
      "execution_count": 86,
      "outputs": []
    },
    {
      "cell_type": "code",
      "metadata": {
        "id": "qGLBhUge5s45",
        "colab_type": "code",
        "colab": {
          "base_uri": "https://localhost:8080/",
          "height": 170
        },
        "outputId": "5f30cf67-f8cc-409f-de79-b558a8c07645"
      },
      "source": [
        "#Let's see how our model performed\n",
        "print(classification_report(y_test, y_pred9))"
      ],
      "execution_count": 87,
      "outputs": [
        {
          "output_type": "stream",
          "text": [
            "              precision    recall  f1-score   support\n",
            "\n",
            "           0       0.90      0.96      0.93       347\n",
            "           1       0.55      0.32      0.40        53\n",
            "\n",
            "    accuracy                           0.88       400\n",
            "   macro avg       0.73      0.64      0.67       400\n",
            "weighted avg       0.86      0.88      0.86       400\n",
            "\n"
          ],
          "name": "stdout"
        }
      ]
    },
    {
      "cell_type": "code",
      "metadata": {
        "id": "LINeQf_g5s1c",
        "colab_type": "code",
        "colab": {}
      },
      "source": [
        "# As we have seen that maximum accuracy came out of Random forest classifier but we can also increase accuracy above this using some more methods. Lets do that"
      ],
      "execution_count": 88,
      "outputs": []
    },
    {
      "cell_type": "code",
      "metadata": {
        "id": "IqoBzsvY6Jqf",
        "colab_type": "code",
        "colab": {}
      },
      "source": [
        "# Method1: Grid search CV on SVC & SGD classifiers\n",
        "# Method 2: Cross validation score for random forest and SGD"
      ],
      "execution_count": 89,
      "outputs": []
    },
    {
      "cell_type": "code",
      "metadata": {
        "id": "Bt2Glq3Q6J7W",
        "colab_type": "code",
        "colab": {}
      },
      "source": [
        "from sklearn.model_selection import GridSearchCV, cross_val_score\n",
        "#Finding best parameters for our SVC model\n",
        "param = {\n",
        "    'C': [0.1,0.8,0.9,1,1.1,1.2,1.3,1.4],\n",
        "    'kernel':['linear', 'rbf'],\n",
        "    'gamma' :[0.1,0.8,0.9,1,1.1,1.2,1.3,1.4]\n",
        "}\n",
        "grid_svc = GridSearchCV(clf4, param_grid=param, scoring='accuracy', cv=10)"
      ],
      "execution_count": 90,
      "outputs": []
    },
    {
      "cell_type": "code",
      "metadata": {
        "id": "BujD9YDd6J4M",
        "colab_type": "code",
        "colab": {
          "base_uri": "https://localhost:8080/",
          "height": 34
        },
        "outputId": "bb024584-67ee-4e9f-f001-7223c5173388"
      },
      "source": [
        "grid_svc.fit(X_train, y_train)\n",
        "#Best parameters for our svc model\n",
        "grid_svc.best_params_"
      ],
      "execution_count": 91,
      "outputs": [
        {
          "output_type": "execute_result",
          "data": {
            "text/plain": [
              "{'C': 1.3, 'gamma': 0.8, 'kernel': 'rbf'}"
            ]
          },
          "metadata": {
            "tags": []
          },
          "execution_count": 91
        }
      ]
    },
    {
      "cell_type": "code",
      "metadata": {
        "id": "RnB9AMAu6Jnd",
        "colab_type": "code",
        "colab": {
          "base_uri": "https://localhost:8080/",
          "height": 170
        },
        "outputId": "34b41d1a-e1d9-4d63-80ae-17c6efb41186"
      },
      "source": [
        "#Let's run our SVC again with the best parameters.\n",
        "svc2 = SVC(C = 1.3, gamma =  0.8, kernel= 'rbf')\n",
        "svc2.fit(X_train, y_train)\n",
        "pred_svc2 = svc2.predict(X_test)\n",
        "print(classification_report(y_test, pred_svc2))"
      ],
      "execution_count": 92,
      "outputs": [
        {
          "output_type": "stream",
          "text": [
            "              precision    recall  f1-score   support\n",
            "\n",
            "           0       0.92      0.98      0.95       347\n",
            "           1       0.74      0.43      0.55        53\n",
            "\n",
            "    accuracy                           0.91       400\n",
            "   macro avg       0.83      0.71      0.75       400\n",
            "weighted avg       0.90      0.91      0.89       400\n",
            "\n"
          ],
          "name": "stdout"
        }
      ]
    },
    {
      "cell_type": "code",
      "metadata": {
        "id": "s4IRS_AH7TUy",
        "colab_type": "code",
        "colab": {}
      },
      "source": [
        "# As we can see accuracy level boost up from 89% to 91%"
      ],
      "execution_count": 66,
      "outputs": []
    },
    {
      "cell_type": "code",
      "metadata": {
        "id": "--_7YNtS6JkS",
        "colab_type": "code",
        "colab": {
          "base_uri": "https://localhost:8080/",
          "height": 323
        },
        "outputId": "446cde57-383f-4cf7-ffb1-e4a98acd7671"
      },
      "source": [
        "from xgboost import XGBClassifier  \n",
        "from sklearn.model_selection import GridSearchCV  \n",
        "\n",
        "param_grid = [\n",
        "    {'learning_rate': [0.1, 0.3], \n",
        "     'min_child_weight': [0.5, 2], 'gamma': [0, 0.2], 'max_delta_step': [0], 'subsample': [1], 'colsample_bytree': [1], 'colsample_bylevel':[1], 'scale_pos_weight': [1]},]\n",
        "\n",
        "xgbc_grid = XGBClassifier()\n",
        "grid_search9 = GridSearchCV(xgbc_grid, param_grid, cv=5,\n",
        "                           scoring='neg_mean_squared_error')\n",
        "grid_search9.fit(X_train, y_train)"
      ],
      "execution_count": 93,
      "outputs": [
        {
          "output_type": "execute_result",
          "data": {
            "text/plain": [
              "GridSearchCV(cv=5, error_score=nan,\n",
              "             estimator=XGBClassifier(base_score=0.5, booster='gbtree',\n",
              "                                     colsample_bylevel=1, colsample_bynode=1,\n",
              "                                     colsample_bytree=1, gamma=0,\n",
              "                                     learning_rate=0.1, max_delta_step=0,\n",
              "                                     max_depth=3, min_child_weight=1,\n",
              "                                     missing=None, n_estimators=100, n_jobs=1,\n",
              "                                     nthread=None, objective='binary:logistic',\n",
              "                                     random_state=0, reg_alpha=0, reg_lambda=1,\n",
              "                                     scale_po...e,\n",
              "                                     subsample=1, verbosity=1),\n",
              "             iid='deprecated', n_jobs=None,\n",
              "             param_grid=[{'colsample_bylevel': [1], 'colsample_bytree': [1],\n",
              "                          'gamma': [0, 0.2], 'learning_rate': [0.1, 0.3],\n",
              "                          'max_delta_step': [0], 'min_child_weight': [0.5, 2],\n",
              "                          'scale_pos_weight': [1], 'subsample': [1]}],\n",
              "             pre_dispatch='2*n_jobs', refit=True, return_train_score=False,\n",
              "             scoring='neg_mean_squared_error', verbose=0)"
            ]
          },
          "metadata": {
            "tags": []
          },
          "execution_count": 93
        }
      ]
    },
    {
      "cell_type": "code",
      "metadata": {
        "id": "NkmpCa-26JfI",
        "colab_type": "code",
        "colab": {}
      },
      "source": [
        "y_pred10 = grid_search9.predict(X_test)"
      ],
      "execution_count": 94,
      "outputs": []
    },
    {
      "cell_type": "code",
      "metadata": {
        "id": "d0xLu-aA6Jay",
        "colab_type": "code",
        "colab": {
          "base_uri": "https://localhost:8080/",
          "height": 170
        },
        "outputId": "cfc107ac-af57-405a-9540-d56b3a02a8b9"
      },
      "source": [
        "print(classification_report(y_test, y_pred10))"
      ],
      "execution_count": 95,
      "outputs": [
        {
          "output_type": "stream",
          "text": [
            "              precision    recall  f1-score   support\n",
            "\n",
            "           0       0.92      0.95      0.94       347\n",
            "           1       0.59      0.43      0.50        53\n",
            "\n",
            "    accuracy                           0.89       400\n",
            "   macro avg       0.75      0.69      0.72       400\n",
            "weighted avg       0.87      0.89      0.88       400\n",
            "\n"
          ],
          "name": "stdout"
        }
      ]
    },
    {
      "cell_type": "code",
      "metadata": {
        "id": "5ygVMHli7hh4",
        "colab_type": "code",
        "colab": {}
      },
      "source": [
        "#  XGB classifier accuracy also increased from 88% to 89%"
      ],
      "execution_count": 71,
      "outputs": []
    },
    {
      "cell_type": "code",
      "metadata": {
        "id": "vRHY8s5f7hyk",
        "colab_type": "code",
        "colab": {}
      },
      "source": [
        "# Lets apply cross validation score now"
      ],
      "execution_count": 72,
      "outputs": []
    },
    {
      "cell_type": "code",
      "metadata": {
        "id": "0X6PgQpm7hus",
        "colab_type": "code",
        "colab": {
          "base_uri": "https://localhost:8080/",
          "height": 34
        },
        "outputId": "0b053dba-a7e5-4681-acae-be5633fb0f20"
      },
      "source": [
        "#Now lets try to do some evaluation for random forest model using cross validation.\n",
        "rfc_eval = cross_val_score(estimator = clf2, X = X_train, y = y_train, cv = 10)\n",
        "rfc_eval.mean()\n",
        "# It is giving no improvement"
      ],
      "execution_count": 97,
      "outputs": [
        {
          "output_type": "execute_result",
          "data": {
            "text/plain": [
              "0.9074579831932773"
            ]
          },
          "metadata": {
            "tags": []
          },
          "execution_count": 97
        }
      ]
    },
    {
      "cell_type": "code",
      "metadata": {
        "id": "8JHdYe-37xiI",
        "colab_type": "code",
        "colab": {
          "base_uri": "https://localhost:8080/",
          "height": 394
        },
        "outputId": "8da2dc0c-eb69-4334-ea61-8b9b2c67925a"
      },
      "source": [
        "#Now lets try to do some evaluation for random forest model using cross validation.\n",
        "sgd_eval = cross_val_score(estimator = clf3, X = X_train, y = y_train, cv = 10)\n",
        "sgd_eval.mean()"
      ],
      "execution_count": 98,
      "outputs": [
        {
          "output_type": "stream",
          "text": [
            "/usr/local/lib/python3.6/dist-packages/sklearn/linear_model/_stochastic_gradient.py:557: ConvergenceWarning: Maximum number of iteration reached before convergence. Consider increasing max_iter to improve the fit.\n",
            "  ConvergenceWarning)\n",
            "/usr/local/lib/python3.6/dist-packages/sklearn/linear_model/_stochastic_gradient.py:557: ConvergenceWarning: Maximum number of iteration reached before convergence. Consider increasing max_iter to improve the fit.\n",
            "  ConvergenceWarning)\n",
            "/usr/local/lib/python3.6/dist-packages/sklearn/linear_model/_stochastic_gradient.py:557: ConvergenceWarning: Maximum number of iteration reached before convergence. Consider increasing max_iter to improve the fit.\n",
            "  ConvergenceWarning)\n",
            "/usr/local/lib/python3.6/dist-packages/sklearn/linear_model/_stochastic_gradient.py:557: ConvergenceWarning: Maximum number of iteration reached before convergence. Consider increasing max_iter to improve the fit.\n",
            "  ConvergenceWarning)\n",
            "/usr/local/lib/python3.6/dist-packages/sklearn/linear_model/_stochastic_gradient.py:557: ConvergenceWarning: Maximum number of iteration reached before convergence. Consider increasing max_iter to improve the fit.\n",
            "  ConvergenceWarning)\n",
            "/usr/local/lib/python3.6/dist-packages/sklearn/linear_model/_stochastic_gradient.py:557: ConvergenceWarning: Maximum number of iteration reached before convergence. Consider increasing max_iter to improve the fit.\n",
            "  ConvergenceWarning)\n",
            "/usr/local/lib/python3.6/dist-packages/sklearn/linear_model/_stochastic_gradient.py:557: ConvergenceWarning: Maximum number of iteration reached before convergence. Consider increasing max_iter to improve the fit.\n",
            "  ConvergenceWarning)\n",
            "/usr/local/lib/python3.6/dist-packages/sklearn/linear_model/_stochastic_gradient.py:557: ConvergenceWarning: Maximum number of iteration reached before convergence. Consider increasing max_iter to improve the fit.\n",
            "  ConvergenceWarning)\n",
            "/usr/local/lib/python3.6/dist-packages/sklearn/linear_model/_stochastic_gradient.py:557: ConvergenceWarning: Maximum number of iteration reached before convergence. Consider increasing max_iter to improve the fit.\n",
            "  ConvergenceWarning)\n",
            "/usr/local/lib/python3.6/dist-packages/sklearn/linear_model/_stochastic_gradient.py:557: ConvergenceWarning: Maximum number of iteration reached before convergence. Consider increasing max_iter to improve the fit.\n",
            "  ConvergenceWarning)\n"
          ],
          "name": "stderr"
        },
        {
          "output_type": "execute_result",
          "data": {
            "text/plain": [
              "0.8465546218487395"
            ]
          },
          "metadata": {
            "tags": []
          },
          "execution_count": 98
        }
      ]
    },
    {
      "cell_type": "markdown",
      "metadata": {
        "id": "m1tbQjpg3N0u",
        "colab_type": "text"
      },
      "source": [
        "**Performance measures and check which model is giving highest score.We will use following performance measures:**\n",
        "\n",
        "**1. Confusion matrix**\n",
        "\n",
        "**2. Precision, Recall, Accuracy score**\n",
        "\n",
        "**3. Roc curves**"
      ]
    },
    {
      "cell_type": "code",
      "metadata": {
        "id": "_oB5g7463N0x",
        "colab_type": "code",
        "colab": {}
      },
      "source": [
        "from sklearn import metrics\n",
        "from sklearn.metrics import f1_score"
      ],
      "execution_count": 100,
      "outputs": []
    },
    {
      "cell_type": "code",
      "metadata": {
        "id": "bIyvzCyj3N03",
        "colab_type": "code",
        "colab": {
          "base_uri": "https://localhost:8080/",
          "height": 51
        },
        "outputId": "ca148ea5-8f99-46f6-d010-9b59761a0054"
      },
      "source": [
        "cnf_matrix1=metrics.confusion_matrix(y_test, y_pred1)\n",
        "cnf_matrix1"
      ],
      "execution_count": 101,
      "outputs": [
        {
          "output_type": "execute_result",
          "data": {
            "text/plain": [
              "array([[335,  12],\n",
              "       [ 37,  16]])"
            ]
          },
          "metadata": {
            "tags": []
          },
          "execution_count": 101
        }
      ]
    },
    {
      "cell_type": "code",
      "metadata": {
        "id": "PY43FfAF3N0_",
        "colab_type": "code",
        "colab": {
          "base_uri": "https://localhost:8080/",
          "height": 51
        },
        "outputId": "a4c6de64-da1a-4191-a1b5-1d8964765fb4"
      },
      "source": [
        "cnf_matrix2=metrics.confusion_matrix(y_test, y_pred2)\n",
        "cnf_matrix2"
      ],
      "execution_count": 102,
      "outputs": [
        {
          "output_type": "execute_result",
          "data": {
            "text/plain": [
              "array([[338,   9],\n",
              "       [ 26,  27]])"
            ]
          },
          "metadata": {
            "tags": []
          },
          "execution_count": 102
        }
      ]
    },
    {
      "cell_type": "code",
      "metadata": {
        "id": "y8jh1nXk3N1G",
        "colab_type": "code",
        "colab": {
          "base_uri": "https://localhost:8080/",
          "height": 51
        },
        "outputId": "4f83530e-0b12-43d5-f0a9-0476d67c4b87"
      },
      "source": [
        "cnf_matrix3=metrics.confusion_matrix(y_test, y_pred3)\n",
        "cnf_matrix3"
      ],
      "execution_count": 103,
      "outputs": [
        {
          "output_type": "execute_result",
          "data": {
            "text/plain": [
              "array([[298,  49],\n",
              "       [ 20,  33]])"
            ]
          },
          "metadata": {
            "tags": []
          },
          "execution_count": 103
        }
      ]
    },
    {
      "cell_type": "code",
      "metadata": {
        "id": "EFl11n_b3N1R",
        "colab_type": "code",
        "colab": {
          "base_uri": "https://localhost:8080/",
          "height": 51
        },
        "outputId": "39d8812e-bd6a-462d-8835-e6dc8030800b"
      },
      "source": [
        "cnf_matrix4=metrics.confusion_matrix(y_test, y_pred4)\n",
        "cnf_matrix4"
      ],
      "execution_count": 104,
      "outputs": [
        {
          "output_type": "execute_result",
          "data": {
            "text/plain": [
              "array([[339,   8],\n",
              "       [ 38,  15]])"
            ]
          },
          "metadata": {
            "tags": []
          },
          "execution_count": 104
        }
      ]
    },
    {
      "cell_type": "code",
      "metadata": {
        "id": "PrCJtocL3N1X",
        "colab_type": "code",
        "colab": {
          "base_uri": "https://localhost:8080/",
          "height": 51
        },
        "outputId": "0581a5c9-a782-4dda-86ea-57ba4666d3cb"
      },
      "source": [
        "cnf_matrix5=metrics.confusion_matrix(y_test, y_pred5)\n",
        "cnf_matrix5"
      ],
      "execution_count": 105,
      "outputs": [
        {
          "output_type": "execute_result",
          "data": {
            "text/plain": [
              "array([[339,   8],\n",
              "       [ 38,  15]])"
            ]
          },
          "metadata": {
            "tags": []
          },
          "execution_count": 105
        }
      ]
    },
    {
      "cell_type": "code",
      "metadata": {
        "id": "SqlxGgPv3N1c",
        "colab_type": "code",
        "colab": {
          "base_uri": "https://localhost:8080/",
          "height": 51
        },
        "outputId": "bbf943fe-9ce0-4427-f29d-e55832aba348"
      },
      "source": [
        "cnf_matrix6=metrics.confusion_matrix(y_test, y_pred6)\n",
        "cnf_matrix6"
      ],
      "execution_count": 106,
      "outputs": [
        {
          "output_type": "execute_result",
          "data": {
            "text/plain": [
              "array([[340,   7],\n",
              "       [ 39,  14]])"
            ]
          },
          "metadata": {
            "tags": []
          },
          "execution_count": 106
        }
      ]
    },
    {
      "cell_type": "code",
      "metadata": {
        "id": "cB0pQdH_3N1l",
        "colab_type": "code",
        "colab": {
          "base_uri": "https://localhost:8080/",
          "height": 51
        },
        "outputId": "d3f002f2-6bcc-41ac-b0e6-286b88b69060"
      },
      "source": [
        "cnf_matrix7=metrics.confusion_matrix(y_test, y_pred7)\n",
        "cnf_matrix7"
      ],
      "execution_count": 107,
      "outputs": [
        {
          "output_type": "execute_result",
          "data": {
            "text/plain": [
              "array([[347,   0],\n",
              "       [ 52,   1]])"
            ]
          },
          "metadata": {
            "tags": []
          },
          "execution_count": 107
        }
      ]
    },
    {
      "cell_type": "code",
      "metadata": {
        "id": "2R_G6isW-W9O",
        "colab_type": "code",
        "colab": {
          "base_uri": "https://localhost:8080/",
          "height": 51
        },
        "outputId": "4234f07b-ba4c-42a0-e67f-e193db2d8136"
      },
      "source": [
        "cnf_matrix8=metrics.confusion_matrix(y_test, y_pred8)\n",
        "cnf_matrix8"
      ],
      "execution_count": 109,
      "outputs": [
        {
          "output_type": "execute_result",
          "data": {
            "text/plain": [
              "array([[329,  18],\n",
              "       [ 33,  20]])"
            ]
          },
          "metadata": {
            "tags": []
          },
          "execution_count": 109
        }
      ]
    },
    {
      "cell_type": "code",
      "metadata": {
        "id": "WF7DC7Gg-XTy",
        "colab_type": "code",
        "colab": {
          "base_uri": "https://localhost:8080/",
          "height": 51
        },
        "outputId": "6784693f-6c0c-4e5f-e681-6484bcd7ffbb"
      },
      "source": [
        "cnf_matrix9=metrics.confusion_matrix(y_test, y_pred9)\n",
        "cnf_matrix9"
      ],
      "execution_count": 110,
      "outputs": [
        {
          "output_type": "execute_result",
          "data": {
            "text/plain": [
              "array([[333,  14],\n",
              "       [ 36,  17]])"
            ]
          },
          "metadata": {
            "tags": []
          },
          "execution_count": 110
        }
      ]
    },
    {
      "cell_type": "code",
      "metadata": {
        "id": "X9VSMJgq-v3s",
        "colab_type": "code",
        "colab": {}
      },
      "source": [
        "\n",
        "1. Logistic Regression Classifier\n",
        "\n",
        "2. Random Forest Classifier\n",
        "\n",
        "3. SGD Classifier\n",
        "\n",
        "*4. SVC classifier *\n",
        "\n",
        "5. Voting Classifier\n",
        "\n",
        "6. Bagging Classifier\n",
        "\n",
        "7. Extra Tree Classifier\n",
        "\n",
        "8. Adaboost Classifier\n",
        "\n",
        "9. XGBoost Classifier\n",
        "\n",
        "9. SVC & XGBoost Classifier with grid search(Hyperparametr Tuning, which would tell us best parameters to be taken inside classifier for best results)\n",
        "\n",
        "10. Random forest and SGD for cross validation to improve accuracy\n",
        "\n"
      ],
      "execution_count": null,
      "outputs": []
    },
    {
      "cell_type": "code",
      "metadata": {
        "id": "DemAI6qi3N2V",
        "colab_type": "code",
        "colab": {
          "base_uri": "https://localhost:8080/",
          "height": 1000
        },
        "outputId": "9eedb096-a945-4293-e44d-fbf70cc3cbcf"
      },
      "source": [
        "print(\"Logistic regression: \", classification_report(y_test, y_pred1))\n",
        "print(\"-\"*70)\n",
        "print(\"Random Forest Classifier: \", classification_report(y_test, y_pred2))\n",
        "print(\"-\"*70)\n",
        "print(\"SGD Classifier: \", classification_report(y_test, y_pred3))\n",
        "print(\"-\"*70)\n",
        "print(\"SVC Classifier: \", classification_report(y_test, y_pred4))\n",
        "print(\"-\"*70)\n",
        "print(\"Voting Classifier: \", classification_report(y_test, y_pred5))\n",
        "print(\"-\"*70)\n",
        "print(\"Bagging Classifier: \", classification_report(y_test, y_pred6))\n",
        "print(\"-\"*70)\n",
        "print(\"Extra Tree Classifier: \", classification_report(y_test, y_pred7))\n",
        "print(\"-\"*70)\n",
        "print(\"Adaboost Classifier: \", classification_report(y_test, y_pred8))\n",
        "print(\"-\"*70)\n",
        "print(\"XGBoost Classifier: \", classification_report(y_test, y_pred9))\n",
        "print(\"-\"*70)\n",
        "print(\"SVC with hyperparametr tuning Classifier: \", classification_report(y_test, pred_svc2))\n",
        "print(\"-\"*70)"
      ],
      "execution_count": 113,
      "outputs": [
        {
          "output_type": "stream",
          "text": [
            "Logistic regression:                precision    recall  f1-score   support\n",
            "\n",
            "           0       0.90      0.97      0.93       347\n",
            "           1       0.57      0.30      0.40        53\n",
            "\n",
            "    accuracy                           0.88       400\n",
            "   macro avg       0.74      0.63      0.66       400\n",
            "weighted avg       0.86      0.88      0.86       400\n",
            "\n",
            "----------------------------------------------------------------------\n",
            "Random Forest Classifier:                precision    recall  f1-score   support\n",
            "\n",
            "           0       0.93      0.97      0.95       347\n",
            "           1       0.75      0.51      0.61        53\n",
            "\n",
            "    accuracy                           0.91       400\n",
            "   macro avg       0.84      0.74      0.78       400\n",
            "weighted avg       0.90      0.91      0.91       400\n",
            "\n",
            "----------------------------------------------------------------------\n",
            "SGD Classifier:                precision    recall  f1-score   support\n",
            "\n",
            "           0       0.94      0.86      0.90       347\n",
            "           1       0.40      0.62      0.49        53\n",
            "\n",
            "    accuracy                           0.83       400\n",
            "   macro avg       0.67      0.74      0.69       400\n",
            "weighted avg       0.87      0.83      0.84       400\n",
            "\n",
            "----------------------------------------------------------------------\n",
            "SVC Classifier:                precision    recall  f1-score   support\n",
            "\n",
            "           0       0.90      0.98      0.94       347\n",
            "           1       0.65      0.28      0.39        53\n",
            "\n",
            "    accuracy                           0.89       400\n",
            "   macro avg       0.78      0.63      0.67       400\n",
            "weighted avg       0.87      0.89      0.86       400\n",
            "\n",
            "----------------------------------------------------------------------\n",
            "Voting Classifier:                precision    recall  f1-score   support\n",
            "\n",
            "           0       0.90      0.98      0.94       347\n",
            "           1       0.65      0.28      0.39        53\n",
            "\n",
            "    accuracy                           0.89       400\n",
            "   macro avg       0.78      0.63      0.67       400\n",
            "weighted avg       0.87      0.89      0.86       400\n",
            "\n",
            "----------------------------------------------------------------------\n",
            "Bagging Classifier:                precision    recall  f1-score   support\n",
            "\n",
            "           0       0.90      0.98      0.94       347\n",
            "           1       0.67      0.26      0.38        53\n",
            "\n",
            "    accuracy                           0.89       400\n",
            "   macro avg       0.78      0.62      0.66       400\n",
            "weighted avg       0.87      0.89      0.86       400\n",
            "\n",
            "----------------------------------------------------------------------\n",
            "Extra Tree Classifier:                precision    recall  f1-score   support\n",
            "\n",
            "           0       0.87      1.00      0.93       347\n",
            "           1       1.00      0.02      0.04        53\n",
            "\n",
            "    accuracy                           0.87       400\n",
            "   macro avg       0.93      0.51      0.48       400\n",
            "weighted avg       0.89      0.87      0.81       400\n",
            "\n",
            "----------------------------------------------------------------------\n",
            "Adaboost Classifier:                precision    recall  f1-score   support\n",
            "\n",
            "           0       0.91      0.95      0.93       347\n",
            "           1       0.53      0.38      0.44        53\n",
            "\n",
            "    accuracy                           0.87       400\n",
            "   macro avg       0.72      0.66      0.68       400\n",
            "weighted avg       0.86      0.87      0.86       400\n",
            "\n",
            "----------------------------------------------------------------------\n",
            "XGBoost Classifier:                precision    recall  f1-score   support\n",
            "\n",
            "           0       0.90      0.96      0.93       347\n",
            "           1       0.55      0.32      0.40        53\n",
            "\n",
            "    accuracy                           0.88       400\n",
            "   macro avg       0.73      0.64      0.67       400\n",
            "weighted avg       0.86      0.88      0.86       400\n",
            "\n",
            "----------------------------------------------------------------------\n",
            "SVC with hyperparametr tuning Classifier:                precision    recall  f1-score   support\n",
            "\n",
            "           0       0.92      0.98      0.95       347\n",
            "           1       0.74      0.43      0.55        53\n",
            "\n",
            "    accuracy                           0.91       400\n",
            "   macro avg       0.83      0.71      0.75       400\n",
            "weighted avg       0.90      0.91      0.89       400\n",
            "\n",
            "----------------------------------------------------------------------\n"
          ],
          "name": "stdout"
        }
      ]
    },
    {
      "cell_type": "code",
      "metadata": {
        "id": "-tk5uLo73N2b",
        "colab_type": "code",
        "colab": {}
      },
      "source": [
        "# Above implementation of diffreent models shows that random forest classifier and svc (after hyperparameter tuning) are giving best accuracy levels that uis 91%"
      ],
      "execution_count": null,
      "outputs": []
    },
    {
      "cell_type": "code",
      "metadata": {
        "id": "Nij-bN7g3N5M",
        "colab_type": "code",
        "colab": {}
      },
      "source": [
        ""
      ],
      "execution_count": null,
      "outputs": []
    }
  ]
}